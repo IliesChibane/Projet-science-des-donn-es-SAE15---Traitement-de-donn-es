{
  "nbformat": 4,
  "nbformat_minor": 0,
  "metadata": {
    "colab": {
      "name": "tu_Activité2.ipynb",
      "provenance": [],
      "collapsed_sections": [],
      "toc_visible": true
    },
    "kernelspec": {
      "name": "python3",
      "display_name": "Python 3"
    },
    "language_info": {
      "name": "python"
    }
  },
  "cells": [
    {
      "cell_type": "markdown",
      "metadata": {
        "id": "n_V6iXzm5dDp"
      },
      "source": [
        "# Test unitaire - Activité 2"
      ]
    },
    {
      "cell_type": "markdown",
      "metadata": {
        "id": "AE-yfPURsMch"
      },
      "source": [
        "---\n",
        "Nom :\n",
        "\n",
        "Prénom :\n",
        "\n",
        "Groupe de TP :\n",
        "\n",
        "---"
      ]
    },
    {
      "cell_type": "markdown",
      "metadata": {
        "id": "y1A0Ycy_sS2Z"
      },
      "source": [
        "Le teste unitaire, `tu_Activite2.ipynb`, de l'activité consiste à mettre en place un programme qui permet de :\n",
        "1. importer des données au format JSON disponibles en OpenData,\n",
        "1. afficher les données sous forme d'un tableau,\n",
        "1. analyser les données.\n",
        "1. publier les résultats.\n",
        "\n",
        "📂 Les données à traiter au format JSON sont celles disponibles sur le site de l'[*Open Data du service Vélib' Métropole*](https://www.velib-metropole.fr/donnees-open-data-gbfs-du-service-velib-metropole).\n",
        "\n",
        "Ces données sont de deux types :\n",
        "* des **données dites statiques** qui informent sur les caractéristiques des stations Vélib sur l'agglomération Parisienne,\n",
        "* des **données dites dynamiques** qui informent en \"temps réel\" sur la disponibilité des stands et des vélos pour chaque station. Ces informations sont mises à jour toutes les minutes.\n",
        "\n",
        "Il est possible de voir la structure de ces données au format JSON en cliquant sur les liens ci-dessous :\n",
        "\n",
        "> 👁 Lien vers le JSON des [données statiques](\n",
        "https://velib-metropole-opendata.smoove.pro/opendata/Velib_Metropole/station_information.json).<br/>\n",
        "👁 Lien vers le JSON des [données dynamiques](https://velib-metropole-opendata.smoove.pro/opendata/Velib_Metropole/station_status.json)."
      ]
    },
    {
      "cell_type": "markdown",
      "metadata": {
        "id": "sbBJjjgkviCA"
      },
      "source": [
        "## Préambule \n",
        "\n",
        "Avant toute chose, il faut importer les bibliothèques et modules utiles :\n",
        "\n",
        "> ⛔ ne pas modifier le code donné ci-dessous."
      ]
    },
    {
      "cell_type": "code",
      "metadata": {
        "id": "dBKgA3UUvrav"
      },
      "source": [
        "# importations et configuration\n",
        "#\n",
        "\n",
        "# installation de modules non natifs\n",
        "!pip install geopandas\n",
        "!pip install contextily\n",
        "\n",
        "from google.colab import drive # pour l'accès au drive\n",
        "import sys                     # pour l'accès au commandes système\n",
        "import json                    # pour manipuler le format JSON\n",
        "import pandas as pd            # pour extraire, calculer, publier\n",
        "\n",
        "# montage du drive sur Colab (avec autorisation d'accès)\n",
        "drive.mount('/content/drive', force_remount=True)\n",
        "# cliquez sur le lien affiché dans la console afin d'obtenir votre clé d'accès\n",
        "# et recopiez cette clé dans la zone de saisie de texte.\n",
        "\n",
        "# pour inclure les fonctions \"faites maison\" et spécifiques\n",
        "sys.path.insert(0,'/content/drive/My Drive/Colab Notebooks/SAE15/tools')\n",
        "import sae15_tools as tools \n",
        "import sae15_spec as spec"
      ],
      "execution_count": null,
      "outputs": []
    },
    {
      "cell_type": "markdown",
      "metadata": {
        "id": "pdStlGqirP74"
      },
      "source": [
        "## Lecture des données statiques\n",
        "\n",
        "Lire les **données statiques** au format JSON disponibles en OpenData de l'API Velib. Récupérer les informations sur les différentes stations à vélos. Convertir et afficher la structure JSON en Data Frame à l'aide de la bibiliothèque Pandas.\n",
        "\n",
        "1. `tools.loadVelibInformation()` ➡ données statiques complètes aux format JSON\n",
        "1. `tools.getVelibStations()` ➡ données sur les stations Vélib\n",
        "1. `pandas.DataFrame()` ➡ mise sous forme d'un Data Frame\n",
        "1. `display()` ➡ affichage amélioré\n"
      ]
    },
    {
      "cell_type": "code",
      "metadata": {
        "id": "CAtp5B8HvH9R"
      },
      "source": [
        "# chargement des données statiques Velib depuis l'OpenData \n",
        "\n",
        "# sélection des données des différentes stations\n",
        "\n",
        "# transformation en DataFrame pour analyse\n",
        "\n",
        "# affichage amélioré\n"
      ],
      "execution_count": null,
      "outputs": []
    },
    {
      "cell_type": "markdown",
      "metadata": {
        "id": "v0tpM3farW90"
      },
      "source": [
        "## Lecture des données dynamiques\n",
        "\n",
        "Lire les **données dynamiques** au format JSON disponibles en OpenData de l'API Velib. Récupérer les informations sur les différentes stations à vélos. Convertir et afficher la structure JSON en Data Frame à l'aide de la bibiliothèque Pandas.\n",
        "\n",
        "1. `tools.loadVelibSatus()` ➡ données dynamiques complètes aux format JSON\n",
        "1. `tools.getVelibStations()` ➡ données sur les stations Vélib\n",
        "1. `pandas.DataFrame()` ➡ mise sousforme de Data Frame\n",
        "1. `display()` ➡ affichage amélioré"
      ]
    },
    {
      "cell_type": "code",
      "metadata": {
        "id": "0XRJJAshrioJ"
      },
      "source": [
        "# chargement des données dynamiques Velib depuis l'OpenData \n",
        "\n",
        "# sélection des données des différentes stations\n",
        "\n",
        "# transformation en DataFrame pour analyse\n",
        "\n",
        "# affichage amélioré\n"
      ],
      "execution_count": null,
      "outputs": []
    },
    {
      "cell_type": "markdown",
      "metadata": {
        "id": "urW2Ly0irczI"
      },
      "source": [
        "## Analyse des données dynamiques\n",
        "\n",
        "Comme on peut le voir sur l'affichage précédent, chaque station est constituée de différentes rubriques : `stationCode`, `station_id`, `num_bikes_available`,\t`numBikesAvailable`, `num_bikes_available_types`, `num_docks_available`, `numDocksAvailable`, `is_installed`, `is_returning`, `is_renting`, `last_reported`.\n",
        "\n",
        "Ici, nous nous intéresserons aux colonnes `numBikesAvailable` et  `numDocksAvailable` qui indiquent respectivement le nombre de vélos et de stands disponibles pour une station donnée.\n",
        "\n",
        "On demande de produire des mesures qui indiquent :\n",
        "1. le nombre total de stations de stands à vélos,\n",
        "1. le nombre total de vélos disponibles sur l'ensemble des stations,\n",
        "1. le nombre total de stands à vélos disponibles sur l'ensemble des stations,\n",
        "1. le taux de disponibilité des vélos (en pourcentage) de chaque station : $taux=velos_{dispo}/(velos_{dispo}+stands_{dispo})$,\n",
        "1. le taux moyen de disponibilité des vélos.\n",
        "\n",
        "Chacune de ces mesures devra être mémorisée dans une variable numérique."
      ]
    },
    {
      "cell_type": "code",
      "metadata": {
        "id": "r9NCIW99rjqM"
      },
      "source": [
        "# analyser les données dynamiques\n",
        "#\n",
        "\n",
        "# récupération de la colonne 'numBikesAvailable'\n",
        "\n",
        "# récupération de la colonne 'numDocksAvailable'\n",
        "\n",
        "# mesures statistiques obtenues par les méthodes de Pandas\n",
        "\n",
        "# taux de disponibilité\n"
      ],
      "execution_count": null,
      "outputs": []
    },
    {
      "cell_type": "markdown",
      "metadata": {
        "id": "fDJyjcIdwjNf"
      },
      "source": [
        "⚠ attention : Avant de calculer le taux moyen de disponibilité, il faut remarquer que certaines stations indiquent des valeurs nulles pour `numBikesAvailable` et `numDocksAvailable`, ce qui produit une valeur du taux de disponibilité égale à `NaN` (résultat du calcul de 0/0). La velur `NaN` (pour *Not a Number*) doit donc être remplacée par 0 partout où elle apparaît avant de calculer le taux moyen.\n",
        "\n",
        "> A cette fin, utiliser la méthode  [`pandas.fillna()`](https://pandas.pydata.org/docs/reference/api/pandas.DataFrame.fillna.html#pandas-dataframe-fillna) de la bibliothèque Pandas."
      ]
    },
    {
      "cell_type": "code",
      "metadata": {
        "id": "2n8HoAeYxcfq"
      },
      "source": [
        "# remplacement des NaN par des 0 et calcul du taux moyen\n",
        "#\n"
      ],
      "execution_count": null,
      "outputs": []
    },
    {
      "cell_type": "markdown",
      "metadata": {
        "id": "RGRFPRcjhX-1"
      },
      "source": [
        "## Publication des résultats\n",
        "\n",
        "Finalement, proposez une publication des mesures obtenues dans un format texte lisible et compréhensible. L'affichage se fait dans la console."
      ]
    },
    {
      "cell_type": "code",
      "metadata": {
        "id": "iDMyC9b1hkCx"
      },
      "source": [
        "# publier les résultats\n",
        "#\n"
      ],
      "execution_count": null,
      "outputs": []
    },
    {
      "cell_type": "markdown",
      "metadata": {
        "id": "pjrbY_Xjs_eO"
      },
      "source": [
        "---\n",
        "🎯 Livrer ce test unitaire sur Eprel\n",
        "\n",
        "---\n",
        "\n",
        "\n",
        "\n"
      ]
    }
  ]
}